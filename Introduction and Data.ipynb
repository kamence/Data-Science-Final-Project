{
 "cells": [
  {
   "cell_type": "markdown",
   "metadata": {},
   "source": [
    "# IBM Data Science Capstone Project: Settling in Sydney, Australia"
   ]
  },
  {
   "cell_type": "markdown",
   "metadata": {},
   "source": [
    "## 1. Introduction"
   ]
  },
  {
   "cell_type": "markdown",
   "metadata": {},
   "source": [
    "In this final project I choose to analyse the city of Sydney, AUS. Sydney is the largest city in Asutralia with more than 5 millions inhabitants. The city is very large with different neigbourhoods. All neigbourhoods offers different atmosphere. You have to ones close to the beach, the others closer to the city center or the business district. \n",
    "This analysis should help you find the best place for you to settle in Sydney.\n",
    "It will show you:\n",
    " - What are the best locations as per infrstructure\n",
    " - What type of venues are there around - school, restaurants, parks, gyms, coffee-shops\n",
    "\n",
    "According to your personal preference, you will be able to choose the best suited location/neigbourhood for you."
   ]
  },
  {
   "cell_type": "markdown",
   "metadata": {},
   "source": [
    "## 2. Data"
   ]
  },
  {
   "cell_type": "markdown",
   "metadata": {},
   "source": [
    "As we decided to focus our analysis on Sydney, we need to get the data for Sydney and its suburb. They can be found here [link](https://www.geonames.org/postal-codes/AU/NSW/new-south-wales.html). In  order to get the data we need to scrape the webpage. Where we need to be careful is to get the 2nd table of the webpage, as the first one refers to a search table. Once we get the relevant table, we need to clean it. Meaning droping the non-relevant columns, the columns with no values, renaming the columns and reseting the index. \n",
    "\n",
    "In a second part we will have to combine the lattitude and longitude data to the table. As you will be able to see, the table from the webpage is already containing the lattitude and longitude data. In an index section I will add the code I used to transform the table and only extract the lattitude and longitude from it. The final geographical data are stored in a .csv file and will be imported and combined to the main table. \n",
    "\n",
    "The final table will then contain every neighbourhoods in Sydney, display its respective borough, zip code as well as its latittude and longitude.\n",
    "The table containing all the data relevant to our analysis will look like the below."
   ]
  },
  {
   "cell_type": "code",
   "execution_count": 9,
   "metadata": {
    "jupyter": {
     "source_hidden": true
    }
   },
   "outputs": [
    {
     "name": "stdout",
     "output_type": "stream",
     "text": [
      "    Neighbourhood  Postal Code         Borough  Lattitude  Longitude\n",
      "0       Haymarket       2000.0  SYDNEY STREETS    -33.880    151.205\n",
      "1       Haymarket       2000.0  SYDNEY STREETS    -33.861    151.204\n",
      "2       Haymarket       2000.0  SYDNEY STREETS    -33.861    151.207\n",
      "3          Ultimo       2007.0  SYDNEY STREETS    -33.881    151.198\n",
      "4     Chippendale       2008.0  SYDNEY STREETS    -33.886    151.199\n",
      "..            ...          ...             ...        ...        ...\n",
      "331      Warrawee       2074.0         GOSFORD    -33.732    151.130\n",
      "332      Warrawee       2074.0         GOSFORD    -33.704    151.149\n",
      "333      Warrawee       2074.0         GOSFORD    -33.753    151.111\n",
      "334      Warrawee       2074.0         GOSFORD    -33.729    151.123\n",
      "335   Normanhurst       2076.0         GOSFORD    -33.723    151.097\n",
      "\n",
      "[336 rows x 5 columns]\n"
     ]
    }
   ],
   "source": [
    "import pandas as pd\n",
    "syd_data = pd.read_csv (\"syd_data.csv\")\n",
    "print (syd_data)"
   ]
  },
  {
   "cell_type": "markdown",
   "metadata": {},
   "source": [
    "We will use the Foursquare API in the next step, to get the venues for each neigbourhood. "
   ]
  },
  {
   "cell_type": "code",
   "execution_count": null,
   "metadata": {},
   "outputs": [],
   "source": []
  }
 ],
 "metadata": {
  "kernelspec": {
   "display_name": "Python",
   "language": "python",
   "name": "conda-env-python-py"
  },
  "language_info": {
   "codemirror_mode": {
    "name": "ipython",
    "version": 3
   },
   "file_extension": ".py",
   "mimetype": "text/x-python",
   "name": "python",
   "nbconvert_exporter": "python",
   "pygments_lexer": "ipython3",
   "version": "3.6.12"
  }
 },
 "nbformat": 4,
 "nbformat_minor": 4
}
